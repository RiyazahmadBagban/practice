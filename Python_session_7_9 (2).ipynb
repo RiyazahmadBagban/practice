{
 "cells": [
  {
   "cell_type": "code",
   "execution_count": null,
   "metadata": {
    "id": "heQ4WTE9buv5"
   },
   "outputs": [],
   "source": [
    "print(\"Hello world\")"
   ]
  },
  {
   "cell_type": "code",
   "execution_count": null,
   "metadata": {
    "id": "5atfOslOdcMh"
   },
   "outputs": [],
   "source": [
    "print(\"it's good\")"
   ]
  },
  {
   "cell_type": "code",
   "execution_count": null,
   "metadata": {
    "id": "cKXePkdPdind"
   },
   "outputs": [],
   "source": [
    "a = (4,5,7,8,56,5,7.8,\"H\")"
   ]
  },
  {
   "cell_type": "code",
   "execution_count": null,
   "metadata": {
    "id": "GPg3pewCWor3"
   },
   "outputs": [],
   "source": [
    "type(a)"
   ]
  },
  {
   "cell_type": "code",
   "execution_count": null,
   "metadata": {
    "id": "rmPnDV4rWuZQ"
   },
   "outputs": [],
   "source": [
    "a[3] = 100"
   ]
  },
  {
   "cell_type": "code",
   "execution_count": null,
   "metadata": {
    "id": "IbaTile1W2Jb"
   },
   "outputs": [],
   "source": [
    "b = [4,5,7,8,56,5,7.8,\"H\"]"
   ]
  },
  {
   "cell_type": "code",
   "execution_count": null,
   "metadata": {
    "id": "t_gMYIJhXM2E"
   },
   "outputs": [],
   "source": [
    "b[3] = 100"
   ]
  },
  {
   "cell_type": "code",
   "execution_count": null,
   "metadata": {
    "id": "-e6vd8WbXNuk"
   },
   "outputs": [],
   "source": [
    "b"
   ]
  },
  {
   "cell_type": "code",
   "execution_count": null,
   "metadata": {
    "id": "fwqROYqaXQy0"
   },
   "outputs": [],
   "source": [
    "type(b)"
   ]
  },
  {
   "cell_type": "markdown",
   "metadata": {
    "id": "oU9J_ELlX_tT"
   },
   "source": [
    "Mathematical Equations"
   ]
  },
  {
   "cell_type": "code",
   "execution_count": null,
   "metadata": {
    "id": "tMLx6yGGXVxZ"
   },
   "outputs": [],
   "source": [
    "a = int(input(\"Enter the 1st number: \"))\n",
    "b = int(input(\"Enter the 2nd number: \"))\n",
    "result = a+b\n",
    "\n",
    "print(result)"
   ]
  },
  {
   "cell_type": "code",
   "execution_count": null,
   "metadata": {
    "id": "1HRGvAs2YLOu"
   },
   "outputs": [],
   "source": [
    "type(a)"
   ]
  },
  {
   "cell_type": "code",
   "execution_count": null,
   "metadata": {
    "id": "3Jy4r55nYc4S"
   },
   "outputs": [],
   "source": [
    "x = int(input(\"Enter the value of x: \"))\n",
    "y = 3*x+5\n",
    "print(\"Result is : \",y)"
   ]
  },
  {
   "cell_type": "code",
   "execution_count": null,
   "metadata": {
    "id": "utguNcAeZgqq"
   },
   "outputs": [],
   "source": [
    "t = 55\n",
    "print(t)"
   ]
  },
  {
   "cell_type": "code",
   "execution_count": null,
   "metadata": {
    "id": "AeOaHofocwYz"
   },
   "outputs": [],
   "source": [
    "x = int(input(\"Enter the value of x: \"))\n",
    "y = x**3+3*x**2+19*x+5\n",
    "print(\"Result is : \",y)"
   ]
  },
  {
   "cell_type": "code",
   "execution_count": null,
   "metadata": {
    "id": "Fhh4IVZZdkgV"
   },
   "outputs": [],
   "source": [
    "import math\n",
    "x = int(input(\"Enter the value of x: \"))\n",
    "\n",
    "y = math.sqrt((x**2+3*x+8)/(5*x))\n",
    "\n",
    "y = ((x**2+3*x+8)/(5*x))**(1/2)\n",
    "\n",
    "print(\"Result is : \",y)"
   ]
  },
  {
   "cell_type": "code",
   "execution_count": null,
   "metadata": {
    "id": "OD-_RF5bf77l"
   },
   "outputs": [],
   "source": []
  },
  {
   "cell_type": "code",
   "execution_count": null,
   "metadata": {
    "id": "3ACOaPcmey6v"
   },
   "outputs": [],
   "source": [
    "x = int(input(\"Enter the value of x: \"))\n",
    "\n",
    "y = (x**2+8*x+9)/(6*x)\n",
    "\n",
    "print(\"Result is : \",y)"
   ]
  },
  {
   "cell_type": "code",
   "execution_count": null,
   "metadata": {
    "id": "HgPLKg9Se-Ye"
   },
   "outputs": [],
   "source": [
    "import keyword\n",
    "len(keyword.kwlist)"
   ]
  },
  {
   "cell_type": "code",
   "execution_count": null,
   "metadata": {
    "id": "1EdCxBcShdPa"
   },
   "outputs": [],
   "source": [
    "a = 9"
   ]
  },
  {
   "cell_type": "markdown",
   "metadata": {
    "id": "pQfRAHJhl83E"
   },
   "source": [
    "## **Conditional Statment**"
   ]
  },
  {
   "cell_type": "code",
   "execution_count": null,
   "metadata": {
    "id": "NqNIr8t1hpPc"
   },
   "outputs": [],
   "source": [
    "a = 9\n",
    "b = 8\n",
    "c =17\n",
    "\n",
    "if a>b:\n",
    "  print(\"Hello\")\n",
    "\n",
    "elif c>b:\n",
    "  print(\"Hi\")\n",
    "\n",
    "else:\n",
    "  print(\"Bye!!!\")\n"
   ]
  },
  {
   "cell_type": "markdown",
   "metadata": {
    "id": "Rjdl4KKsnNiV"
   },
   "source": [
    "Login username and Password"
   ]
  },
  {
   "cell_type": "code",
   "execution_count": null,
   "metadata": {
    "id": "CN6hWR2PmR8p"
   },
   "outputs": [],
   "source": [
    "#rahul\n",
    "#rahul123\n",
    "\n",
    "user = input(\"Enter your username: \")\n",
    "\n",
    "if user==\"rahul\":\n",
    "    \n",
    "    password = input(\"Enter your password: \")\n",
    "    if password==\"rahul123\":\n",
    "        print(\"Congratulations, Login successfully!!!!\")\n",
    "        \n",
    "    else:\n",
    "        print(\"Password is wrong!!!\")\n",
    "        \n",
    "else:\n",
    "    print(\"Username is worng!!!\")"
   ]
  },
  {
   "cell_type": "markdown",
   "metadata": {
    "id": "G-PtpetImL3K"
   },
   "source": [
    "# While Loop"
   ]
  },
  {
   "cell_type": "code",
   "execution_count": null,
   "metadata": {
    "id": "wuvogTyImL3K"
   },
   "outputs": [],
   "source": [
    "a = 1\n",
    "\n",
    "while a<=10:\n",
    "    print(\"Number is: \",a)\n",
    "    a = a+1\n",
    "else:\n",
    "    print(\"Bye\")"
   ]
  },
  {
   "cell_type": "code",
   "execution_count": null,
   "metadata": {
    "id": "ehBlNWnimL3L"
   },
   "outputs": [],
   "source": [
    "#print 20 to 1 number\n",
    "b = 20\n",
    "\n",
    "while b>=1:\n",
    "    print(b)\n",
    "    b = b-1"
   ]
  },
  {
   "cell_type": "code",
   "execution_count": null,
   "metadata": {
    "id": "Y2m9MaGNmL3L"
   },
   "outputs": [],
   "source": [
    "#rahul\n",
    "#rahul123\n",
    "#If username and password is 5 times wrong: print statment (please try after 24 hrs)\n",
    "\n",
    "while True:\n",
    "    user = input(\"Enter your username: \")\n",
    "\n",
    "    if user==\"rahul\":\n",
    "\n",
    "        password = input(\"Enter your password: \")\n",
    "        if password==\"rahul123\":\n",
    "            print(\"Congratulations, Login successfully!!!!\")\n",
    "            break\n",
    "\n",
    "        else:\n",
    "            print(\"Password is wrong!!!\")\n",
    "\n",
    "    else:\n",
    "        print(\"Username is worng!!!\")"
   ]
  },
  {
   "cell_type": "code",
   "execution_count": null,
   "metadata": {
    "id": "2vIUCQ_HmL3O"
   },
   "outputs": [],
   "source": [
    "a = 1\n",
    "while a<=100:\n",
    "    print(\"Hello\",a)\n",
    "    a = a+1\n",
    "    \n",
    "    while a>30 and a<=50:\n",
    "        print(\"Hi\",a)\n",
    "        a = a+1\n",
    "        \n",
    "    while a>70 and a<=90:\n",
    "        print(\"Hey\",a)\n",
    "        a = a+1"
   ]
  },
  {
   "cell_type": "markdown",
   "metadata": {
    "id": "u1WZSIovmL3Q"
   },
   "source": [
    "# For Loop\n",
    "\n",
    "it used for iterating the sequence"
   ]
  },
  {
   "cell_type": "code",
   "execution_count": null,
   "metadata": {
    "id": "scksg9fBmL3Q"
   },
   "outputs": [],
   "source": [
    "a = [5,4,4,5,6,76,78,89,90,19]\n",
    "\n",
    "for g in a:\n",
    "    print(g**2)"
   ]
  },
  {
   "cell_type": "code",
   "execution_count": null,
   "metadata": {
    "id": "-YIsr2P5mL3Q"
   },
   "outputs": [],
   "source": [
    "for t in range(1,11,2):\n",
    "    print(t)"
   ]
  },
  {
   "cell_type": "code",
   "execution_count": null,
   "metadata": {
    "id": "LFw-mSXgmL3R"
   },
   "outputs": [],
   "source": [
    "a = \"India\"\n",
    "\n",
    "for i in a:\n",
    "    print(i)"
   ]
  },
  {
   "cell_type": "markdown",
   "metadata": {
    "id": "agyu8jDDmL3R"
   },
   "source": [
    "# Operators\n",
    "\n",
    "% Modulo\n",
    "\n",
    "// floor division"
   ]
  },
  {
   "cell_type": "code",
   "execution_count": null,
   "metadata": {
    "id": "ZMG6DLVSmL3S",
    "outputId": "b65b48ed-10de-4c5c-e32d-6167e77e80c0"
   },
   "outputs": [
    {
     "data": {
      "text/plain": [
       "1.6666666666666667"
      ]
     },
     "execution_count": 6,
     "metadata": {},
     "output_type": "execute_result"
    }
   ],
   "source": [
    "5/3"
   ]
  },
  {
   "cell_type": "code",
   "execution_count": null,
   "metadata": {
    "id": "2A4LWwk2mL3T",
    "outputId": "b2e232ff-c37b-4c5c-ae76-889e4498db01"
   },
   "outputs": [
    {
     "data": {
      "text/plain": [
       "2"
      ]
     },
     "execution_count": 7,
     "metadata": {},
     "output_type": "execute_result"
    }
   ],
   "source": [
    "5%3"
   ]
  },
  {
   "cell_type": "code",
   "execution_count": null,
   "metadata": {
    "id": "AUl8iv7jmL3U",
    "outputId": "46202565-e773-4b1f-d4e7-e8a2792fc424"
   },
   "outputs": [
    {
     "data": {
      "text/plain": [
       "1"
      ]
     },
     "execution_count": 8,
     "metadata": {},
     "output_type": "execute_result"
    }
   ],
   "source": [
    "17%4"
   ]
  },
  {
   "cell_type": "code",
   "execution_count": null,
   "metadata": {
    "id": "2ujmVauXmL3V",
    "outputId": "963a25c8-256b-4953-f7a7-3dafd4d4f737"
   },
   "outputs": [
    {
     "data": {
      "text/plain": [
       "2.75"
      ]
     },
     "execution_count": 9,
     "metadata": {},
     "output_type": "execute_result"
    }
   ],
   "source": [
    "11/4"
   ]
  },
  {
   "cell_type": "code",
   "execution_count": null,
   "metadata": {
    "id": "J8EWkokdmL3W",
    "outputId": "59f033fc-71f2-43d4-dfac-678deeb4e03d"
   },
   "outputs": [
    {
     "data": {
      "text/plain": [
       "2"
      ]
     },
     "execution_count": 4,
     "metadata": {},
     "output_type": "execute_result"
    }
   ],
   "source": [
    "11//4"
   ]
  },
  {
   "cell_type": "code",
   "execution_count": null,
   "metadata": {
    "id": "Z0TVXh43mL3W",
    "outputId": "aa2e122d-50c3-4c60-85d5-9efceac5b224"
   },
   "outputs": [
    {
     "data": {
      "text/plain": [
       "3"
      ]
     },
     "execution_count": 10,
     "metadata": {},
     "output_type": "execute_result"
    }
   ],
   "source": [
    "import math\n",
    "math.ceil(11/4)"
   ]
  },
  {
   "cell_type": "code",
   "execution_count": null,
   "metadata": {
    "id": "zk1myDz8mL3X"
   },
   "outputs": [],
   "source": [
    "17/-4"
   ]
  },
  {
   "cell_type": "code",
   "execution_count": null,
   "metadata": {
    "id": "-tDYVF-YmL3X"
   },
   "outputs": [],
   "source": []
  }
 ],
 "metadata": {
  "colab": {
   "collapsed_sections": [],
   "name": "Python_session_7_9.ipynb",
   "provenance": []
  },
  "kernelspec": {
   "display_name": "Python 3 (ipykernel)",
   "language": "python",
   "name": "python3"
  },
  "language_info": {
   "codemirror_mode": {
    "name": "ipython",
    "version": 3
   },
   "file_extension": ".py",
   "mimetype": "text/x-python",
   "name": "python",
   "nbconvert_exporter": "python",
   "pygments_lexer": "ipython3",
   "version": "3.9.7"
  }
 },
 "nbformat": 4,
 "nbformat_minor": 0
}
